{
 "cells": [
  {
   "cell_type": "markdown",
   "id": "5fd285b2-6238-44d2-8c7c-87cd8fac6250",
   "metadata": {},
   "source": [
    "**SM339 &#x25aa; Applied Statistics &#x25aa; Spring 2023 &#x25aa; Uhan**"
   ]
  },
  {
   "cell_type": "markdown",
   "id": "d933c830-3439-43d0-8ca2-a58a1beeb13f",
   "metadata": {},
   "source": [
    "# Lesson 16. Confidence and Prediction Intervals for Response"
   ]
  },
  {
   "cell_type": "markdown",
   "id": "adfce23e-5a66-412d-b287-de0326339096",
   "metadata": {},
   "source": [
    "## Overview"
   ]
  },
  {
   "cell_type": "markdown",
   "id": "0bfadb62-5ad2-41dd-a77e-34eef5f49d3e",
   "metadata": {},
   "source": [
    "- As in simple linear regression, often we would like to use our model to make predictions\n",
    "\n",
    "- We may want to predict:\n",
    "\n",
    "    - The __mean response__ for predictor values $x_1^*, x_2^*, \\dots, x_k^*$\n",
    "    \n",
    "    - An __individual response__ for predictor values $x_1^*, x_2^*, \\dots, x_k^*$"
   ]
  },
  {
   "cell_type": "markdown",
   "id": "b6871e44-7708-44b0-a02f-e660d20ee06a",
   "metadata": {},
   "source": [
    "## Confidence interval for response"
   ]
  },
  {
   "cell_type": "markdown",
   "id": "ff8d87e1-a089-489f-aa7b-2c97adefad83",
   "metadata": {},
   "source": [
    "- To estimate the __mean response__ for predictor values $x_1^*, x_2^*, \\dots, x_k^*$, we use a __confidence interval__ for $\\mu_{Y | x^*}$\n",
    "\n",
    "- It estimates the mean of $Y$ when $X_1$ has the value $x_1^*$, $X_2$ has the value $x_2^*$, etc."
   ]
  },
  {
   "cell_type": "markdown",
   "id": "2ea6cd4c-5648-47ed-8e52-5eb583a6738b",
   "metadata": {},
   "source": [
    "- Formula:\n",
    "    $$\\hat{y} \\pm t_{\\alpha / 2, n - (k + 1)} \\mathit{SE}_{\\hat{\\mu}}$$\n",
    "\n",
    "    - We will let R handle the particulars of calculating the standard error $\\mathit{SE}_{\\hat{\\mu}}$"
   ]
  },
  {
   "cell_type": "markdown",
   "id": "d0dc16e1-5f59-40af-9d23-1a3b3c1733c4",
   "metadata": {},
   "source": [
    "- Interpretation:\n",
    "    > We are <mark>95%</mark> confident that the true average <mark>response</mark> for all <mark>observational units</mark> with <mark>$x_1^*, \\dots, x_k^*$ values</mark> is between <mark>lower endpoint of CI</mark> and <mark>upper endpoint of CI</mark> <mark>units</mark>\n",
    "    \n",
    "    > Being <mark>95%</mark> confident means that, with repeated use, the procedure of forming a CI will capture the true mean response $\\mu_{Y | x^*}$ <mark>95%</mark> of the time.\n",
    "    \n",
    "    - Rephrase the highlighted parts so that it matches the context of the problem"
   ]
  },
  {
   "cell_type": "markdown",
   "id": "c5ac918b-be08-47bb-a9f5-2ab3da850e59",
   "metadata": {},
   "source": [
    "### Example 1\n",
    "Continuing with the `RailsTrails` data and model from the previous lessons..."
   ]
  },
  {
   "cell_type": "code",
   "execution_count": 1,
   "id": "6b598919-8a7b-4f23-b8e4-55611e73799b",
   "metadata": {},
   "outputs": [
    {
     "data": {
      "text/plain": [
       "\n",
       "Call:\n",
       "lm(formula = Price2014 ~ SquareFeet + Distance, data = RailsTrails)\n",
       "\n",
       "Residuals:\n",
       "    Min      1Q  Median      3Q     Max \n",
       "-152.15  -30.27   -4.14   25.75  337.93 \n",
       "\n",
       "Coefficients:\n",
       "            Estimate Std. Error t value Pr(>|t|)    \n",
       "(Intercept)   78.985     25.607   3.085  0.00263 ** \n",
       "SquareFeet   147.920     12.765  11.588  < 2e-16 ***\n",
       "Distance     -15.788      7.586  -2.081  0.03994 *  \n",
       "---\n",
       "Signif. codes:  0 ‘***’ 0.001 ‘**’ 0.01 ‘*’ 0.05 ‘.’ 0.1 ‘ ’ 1\n",
       "\n",
       "Residual standard error: 65.55 on 101 degrees of freedom\n",
       "Multiple R-squared:  0.6574,\tAdjusted R-squared:  0.6506 \n",
       "F-statistic: 96.89 on 2 and 101 DF,  p-value: < 2.2e-16\n"
      ]
     },
     "metadata": {},
     "output_type": "display_data"
    }
   ],
   "source": [
    "library(Stat2Data)\n",
    "data(RailsTrails)\n",
    "\n",
    "fit <- lm(Price2014 ~ SquareFeet + Distance, data = RailsTrails)\n",
    "summary(fit)"
   ]
  },
  {
   "cell_type": "markdown",
   "id": "f27ee474-9ca0-4053-910e-5e49560dc600",
   "metadata": {},
   "source": [
    "#### a.\n",
    "Use the fitted model equation directly to predict the price (in 2014) of a home that is 1800 square feet and 1.2 miles from a bike trail."
   ]
  },
  {
   "cell_type": "markdown",
   "id": "89656523-323e-467e-b865-eff878dacf23",
   "metadata": {},
   "source": [
    "*Write your notes here. Double-click to edit.*"
   ]
  },
  {
   "cell_type": "markdown",
   "id": "b44cae97-7700-4350-840f-99dfb5189f29",
   "metadata": {
    "tags": [
     "solution"
    ]
   },
   "source": [
    "*Solution.*\n",
    "\n",
    "$$\\widehat{\\mathit{Price2014}} = 78.985 + 157.920(1.800) - 15.788(1.2) = 326.295 $$"
   ]
  },
  {
   "cell_type": "markdown",
   "id": "c14323b7-150e-49aa-b812-6a125e576c75",
   "metadata": {},
   "source": [
    "#### b.\n",
    "Construct and interpret a 90% confidence interval for the __average__ price of all 1800 square foot houses that are 1.2 miles from a bike trail."
   ]
  },
  {
   "cell_type": "code",
   "execution_count": null,
   "id": "ce8fdb8c-6bf7-4760-b65f-d0ed79d3d46f",
   "metadata": {},
   "outputs": [],
   "source": []
  },
  {
   "cell_type": "code",
   "execution_count": 2,
   "id": "77c5342a-316e-42fa-8fbd-76fbe43a3161",
   "metadata": {
    "tags": [
     "solution"
    ]
   },
   "outputs": [
    {
     "data": {
      "text/html": [
       "<table class=\"dataframe\">\n",
       "<caption>A matrix: 1 × 3 of type dbl</caption>\n",
       "<thead>\n",
       "\t<tr><th></th><th scope=col>fit</th><th scope=col>lwr</th><th scope=col>upr</th></tr>\n",
       "</thead>\n",
       "<tbody>\n",
       "\t<tr><th scope=row>1</th><td>326.2948</td><td>314.2929</td><td>338.2967</td></tr>\n",
       "</tbody>\n",
       "</table>\n"
      ],
      "text/latex": [
       "A matrix: 1 × 3 of type dbl\n",
       "\\begin{tabular}{r|lll}\n",
       "  & fit & lwr & upr\\\\\n",
       "\\hline\n",
       "\t1 & 326.2948 & 314.2929 & 338.2967\\\\\n",
       "\\end{tabular}\n"
      ],
      "text/markdown": [
       "\n",
       "A matrix: 1 × 3 of type dbl\n",
       "\n",
       "| <!--/--> | fit | lwr | upr |\n",
       "|---|---|---|---|\n",
       "| 1 | 326.2948 | 314.2929 | 338.2967 |\n",
       "\n"
      ],
      "text/plain": [
       "  fit      lwr      upr     \n",
       "1 326.2948 314.2929 338.2967"
      ]
     },
     "metadata": {},
     "output_type": "display_data"
    }
   ],
   "source": [
    "# Solution\n",
    "predict(fit, newdata=data.frame(SquareFeet=1.800, Distance=1.2), \n",
    "        interval=\"confidence\", level=0.90)"
   ]
  },
  {
   "cell_type": "markdown",
   "id": "c5f0a7eb-b101-4288-bdd7-ecd258ec36cd",
   "metadata": {},
   "source": [
    "*Write your notes here. Double-click to edit.*"
   ]
  },
  {
   "cell_type": "markdown",
   "id": "199302a4-eeee-4e5c-a29d-813989ff9e4a",
   "metadata": {
    "tags": [
     "solution"
    ]
   },
   "source": [
    "*Solution.* We are 90% confident that the true average price of all 1800 square foot houses that are 1.2 miles from a bike trail is between \\\\$314,929 and \\\\$338.297."
   ]
  },
  {
   "cell_type": "markdown",
   "id": "35c787fb-9782-4acd-bfbe-c94d39a4068a",
   "metadata": {},
   "source": [
    "## Prediction interval for response"
   ]
  },
  {
   "cell_type": "markdown",
   "id": "cec3d625-b840-48d2-b607-273f27033150",
   "metadata": {},
   "source": [
    "- To estimate an __individual response__ for predictor values $x_1^*, x_2^*, \\dots, x_k^*$, we use a __prediction interval__ for $y$\n",
    "\n",
    "- It estimates a _future_ individual response $y$ when $X_1$ has the value $x_1^*$, $X_2$ has the value $x_2^*$, etc."
   ]
  },
  {
   "cell_type": "markdown",
   "id": "b94a038a-1cff-48f4-b987-705ed5a56e81",
   "metadata": {},
   "source": [
    "- Formula:\n",
    "    $$ \\hat{y} \\pm t_{\\alpha/2, n - (k + 1)} \\mathit{SE}_{\\hat{y}} $$"
   ]
  },
  {
   "cell_type": "markdown",
   "id": "2abfc2c6-d9fe-4ee5-89cb-28af833ff363",
   "metadata": {},
   "source": [
    "- Interpretation:\n",
    "    > We are <mark>95%</mark> confident that the <mark>response</mark> of a particular <mark>observational units</mark> with <mark>$x_1^*, \\dots, x_k^*$ values</mark> is between <mark>lower endpoint of CI</mark> and <mark>upper endpoint of CI</mark> <mark>units</mark>\n",
    "    \n",
    "    > Being <mark>95%</mark> confident means that, with repeated use, the procedure of forming a PI will capture the actual $y$ <mark>95%</mark> of the time.\n",
    "    \n",
    "    - Rephrase the highlighted parts so that it matches the context of the problem "
   ]
  },
  {
   "cell_type": "markdown",
   "id": "401c2768-36f2-4a8c-80e5-2f3dee74cd62",
   "metadata": {},
   "source": [
    "### Example 2\n",
    "\n",
    "Continuing with Example 1..."
   ]
  },
  {
   "cell_type": "markdown",
   "id": "e14443dd-de80-41c5-93aa-f9e9ec5a4382",
   "metadata": {},
   "source": [
    "#### a.\n",
    "Construct and interpret a 90% interval predicting the price of one particular 1800 square foot house that is 1.2 miles from a bike trail."
   ]
  },
  {
   "cell_type": "code",
   "execution_count": null,
   "id": "0dc5ab28-5ef3-45dd-ae3d-152b88b4e9ce",
   "metadata": {},
   "outputs": [],
   "source": []
  },
  {
   "cell_type": "code",
   "execution_count": 3,
   "id": "f1414347-2d60-4d22-96f1-a526cdc32a92",
   "metadata": {
    "tags": [
     "solution"
    ]
   },
   "outputs": [
    {
     "data": {
      "text/html": [
       "<table class=\"dataframe\">\n",
       "<caption>A matrix: 1 × 3 of type dbl</caption>\n",
       "<thead>\n",
       "\t<tr><th></th><th scope=col>fit</th><th scope=col>lwr</th><th scope=col>upr</th></tr>\n",
       "</thead>\n",
       "<tbody>\n",
       "\t<tr><th scope=row>1</th><td>326.2948</td><td>216.8189</td><td>435.7708</td></tr>\n",
       "</tbody>\n",
       "</table>\n"
      ],
      "text/latex": [
       "A matrix: 1 × 3 of type dbl\n",
       "\\begin{tabular}{r|lll}\n",
       "  & fit & lwr & upr\\\\\n",
       "\\hline\n",
       "\t1 & 326.2948 & 216.8189 & 435.7708\\\\\n",
       "\\end{tabular}\n"
      ],
      "text/markdown": [
       "\n",
       "A matrix: 1 × 3 of type dbl\n",
       "\n",
       "| <!--/--> | fit | lwr | upr |\n",
       "|---|---|---|---|\n",
       "| 1 | 326.2948 | 216.8189 | 435.7708 |\n",
       "\n"
      ],
      "text/plain": [
       "  fit      lwr      upr     \n",
       "1 326.2948 216.8189 435.7708"
      ]
     },
     "metadata": {},
     "output_type": "display_data"
    }
   ],
   "source": [
    "# Solution\n",
    "predict(fit, newdata=data.frame(SquareFeet=1.800, Distance=1.2), \n",
    "        interval=\"prediction\", level=0.90)"
   ]
  },
  {
   "cell_type": "markdown",
   "id": "4c81c8a9-57fb-4168-9433-94e19ac733c0",
   "metadata": {},
   "source": [
    "#### b.\n",
    "Which is wider, the 90% CI or the 90% PI?"
   ]
  },
  {
   "cell_type": "markdown",
   "id": "cf84d464-230b-416a-b115-6acf698de5b4",
   "metadata": {},
   "source": [
    "*Write your notes here. Double-click to edit.*"
   ]
  },
  {
   "cell_type": "markdown",
   "id": "bcc8a619-d0a6-4f5f-93d3-f9a812c0721d",
   "metadata": {
    "tags": [
     "solution"
    ]
   },
   "source": [
    "*Solution.* The prediction interval is wider."
   ]
  },
  {
   "cell_type": "markdown",
   "id": "0aac285f-5f14-4a46-b850-9b59c4b7d8b6",
   "metadata": {},
   "source": [
    "## Notes about confidence intervals vs. prediction intervals for response"
   ]
  },
  {
   "cell_type": "markdown",
   "id": "6c9ea3f7-44dd-43b9-9f2d-cea4ab71610e",
   "metadata": {},
   "source": [
    "- The point estimate anchoring both intervals is the same: $\\hat{y}$\n",
    "\n",
    "- The prediction interval is always wider than the confidence interval, because the prediction interval uses a larger standard error $\\mathit{SE}_{\\hat{y}}$\n",
    "\n",
    "- Intuitively: \n",
    "    - The PI captures more uncertainty \n",
    "    \n",
    "    - In addition to uncertainty due to sampling, the PI also captures the inherent uncertainty in the response of an _individual_ data point"
   ]
  }
 ],
 "metadata": {
  "kernelspec": {
   "display_name": "R",
   "language": "R",
   "name": "ir"
  },
  "language_info": {
   "codemirror_mode": "r",
   "file_extension": ".r",
   "mimetype": "text/x-r-source",
   "name": "R",
   "pygments_lexer": "r",
   "version": "4.2.2"
  }
 },
 "nbformat": 4,
 "nbformat_minor": 5
}
